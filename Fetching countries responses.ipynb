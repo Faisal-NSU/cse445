{
 "cells": [
  {
   "cell_type": "code",
   "execution_count": 1,
   "id": "9c374192",
   "metadata": {},
   "outputs": [],
   "source": [
    "#importing all necessary libraries\n",
    "import time\n",
    "import pandas as pd\n",
    "from pytrends.request import TrendReq"
   ]
  },
  {
   "cell_type": "code",
   "execution_count": 2,
   "id": "504ee22f",
   "metadata": {},
   "outputs": [],
   "source": [
    "#list of countries to fetch data from\n",
    "countryList = [('afghanistan', 'AF'), ('albania', 'AL'), ('algeria', 'DZ'), ('argentina', 'AR'), ('australia', 'AU'), ('austria', 'AT'), ('bahrain', 'BH'), ('bangladesh', 'BD'), ('belgium', 'BE'), ('belize', 'BZ'), ('bhutan', 'BT'), ('botswana', 'BW'), ('brazil', 'BR'), ('brunei', 'BN'), ('bulgaria', 'BG'), ('cambodia', 'KH'), ('cameroon', 'CM'), ('canada', 'CA'), ('chile', 'CL'), ('china', 'CN'), ('colombia', 'CO'), ('cyprus', 'CY'), ('czech republic', 'CZ'), ('denmark', 'DK'), ('dominican republic', 'DO'), ('ecuador', 'EC'), ('egypt', 'EG'), ('estonia', 'EE'), ('ethiopia', 'ET'), ('fiji', 'FJ'), ('finland', 'FI'), ('france', 'FR'), ('georgia', 'GE'), ('germany', 'DE'), ('ghana', 'GH'), ('greece', 'GR'), ('guatemala', 'GT'), ('guernsey', 'GG'), ('hong kong', 'HK'), ('hungary', 'HU'), ('india', 'IN'), ('indonesia', 'ID'), ('iran', 'IR'), ('iraq', 'IQ'), ('ireland', 'IE'), ('isle of man', 'IM'), ('israel', 'IL'), ('italy', 'IT'), ('jamaica', 'JM'), ('japan', 'JP'), ('jersey', 'JE'), ('jordan', 'JO'), ('kazakhstan', 'KZ'), ('kenya', 'KE'), ('kuwait', 'KW'), ('laos', 'LA'), ('latvia', 'LV'), ('lebanon', 'LB'), ('libya', 'LY'), ('lithuania', 'LT'), ('luxembourg', 'LU'), ('macao', 'MO'), ('macedonia', 'MK'), ('malawi', 'MW'), ('malaysia', 'MY'), ('maldives', 'MV'), ('malta', 'MT'), ('mauritius', 'MU'), ('mexico', 'MX'), ('mongolia', 'MN'), ('morocco', 'MA'), ('myanmar', 'MM'), ('namibia', 'NA'), ('nepal', 'NP'), ('netherlands', 'NL'), ('new zealand', 'NZ'), ('nigeria', 'NG'), ('norway', 'NO'), ('oman', 'OM'), ('pakistan', 'PK'), ('panama', 'PA'), ('papua new guinea', 'PG'), ('peru', 'PE'), ('philippines', 'PH'), ('poland', 'PL'), ('portugal', 'PT'), ('puerto rico', 'PR'), ('qatar', 'QA'), ('romania', 'RO'), ('russia', 'RU'), ('rwanda', 'RW'), ('saint helena', 'SH'), ('saudi arabia', 'SA'), ('serbia', 'RS'), ('singapore', 'SG'), ('slovakia', 'SK'), ('slovenia', 'SI'), ('somalia', 'SO'), ('south africa', 'ZA'), ('south korea', 'KR'), ('spain', 'ES'), ('sri lanka', 'LK'), ('sudan', 'SD'), ('sweden', 'SE'), ('switzerland', 'CH'), ('syria', 'SY'), ('taiwan', 'TW'), ('tanzania', 'TZ'), ('thailand', 'TH'), ('trinidad and tobago', 'TT'), ('tunisia', 'TN'), ('turkey', 'TR'), ('uganda', 'UG'), ('ukraine', 'UA'), ('united arab emirates', 'AE'), ('united kingdom', 'GB'), ('united states', 'US'), ('venezuela', 'VE'), ('vietnam', 'VN'), ('zambia', 'ZM'), ('zimbabwe', 'ZW')]\n",
    "\n",
    "#list of responses that we need to fetch for each countries\n",
    "responseList = ['Corona','Corona virus','Covid cases','Face mask','Hand sanitizer',\n",
    "       'Hand wash','Lockdown','N95','PPE','Social distancing','Vaccine']\n",
    "\n"
   ]
  },
  {
   "cell_type": "code",
   "execution_count": 3,
   "id": "3078752c",
   "metadata": {},
   "outputs": [],
   "source": [
    "for country, code in countryList:\n",
    "    time.sleep(60)\n",
    "    try:\n",
    "        #intial Start time for api call\n",
    "        startTime = time.time()\n",
    "        #calling TrendReq from pytrends library\n",
    "        pytrend = TrendReq(hl='en-US', tz=360, timeout=None)\n",
    "        dataset = []\n",
    "        \n",
    "        #for each responses we build the payload and append it in the dataset\n",
    "        for x in range(0,len(responseList)):\n",
    "            keywords = [responseList[x]]\n",
    "            pytrend.build_payload(           \n",
    "                kw_list=keywords,                \n",
    "                cat=0,\n",
    "                timeframe='2020-04-01 2020-11-30',\n",
    "                geo=code,\n",
    "                gprop='')\n",
    "\n",
    "            # fetching interest data over time, for a particular response\n",
    "            data = pytrend.interest_over_time()\n",
    "            if not data.empty:\n",
    "                data = data.drop(labels=['isPartial'],axis='columns')\n",
    "                dataset.append(data)\n",
    "        \n",
    "        # concatenate the all the responses data from dataset to a dataframe variable named result\n",
    "        # and save the csv using country name \n",
    "        result = pd.concat(dataset, axis=1)\n",
    "        result.to_csv(country + '.csv')\n",
    "\n",
    "        executionTime = (time.time() - startTime)\n",
    "        print('Execution time for',country,' in seconds : ' + str(executionTime))\n",
    "\n",
    "    except:\n",
    "        pass"
   ]
  },
  {
   "cell_type": "code",
   "execution_count": null,
   "id": "8d6e9b38",
   "metadata": {},
   "outputs": [],
   "source": []
  }
 ],
 "metadata": {
  "kernelspec": {
   "display_name": "Python 3",
   "language": "python",
   "name": "python3"
  },
  "language_info": {
   "codemirror_mode": {
    "name": "ipython",
    "version": 3
   },
   "file_extension": ".py",
   "mimetype": "text/x-python",
   "name": "python",
   "nbconvert_exporter": "python",
   "pygments_lexer": "ipython3",
   "version": "3.8.8"
  }
 },
 "nbformat": 4,
 "nbformat_minor": 5
}
