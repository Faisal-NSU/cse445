{
 "cells": [
  {
   "cell_type": "code",
   "execution_count": 73,
   "id": "963feb83",
   "metadata": {},
   "outputs": [],
   "source": [
    "import numpy as np\n",
    "import matplotlib.pyplot as plt\n",
    "import seaborn as sns\n",
    "import pandas as pd\n",
    "\n",
    "from sklearn.cluster import KMeans\n",
    "from sklearn.preprocessing import StandardScaler\n",
    "%matplotlib inline\n"
   ]
  },
  {
   "cell_type": "markdown",
   "id": "6066003f",
   "metadata": {},
   "source": [
    "# Loading the dataset"
   ]
  },
  {
   "cell_type": "code",
   "execution_count": 74,
   "id": "620f11c7",
   "metadata": {},
   "outputs": [
    {
     "name": "stdout",
     "output_type": "stream",
     "text": [
      "(121, 12)\n"
     ]
    },
    {
     "data": {
      "text/html": [
       "<div>\n",
       "<style scoped>\n",
       "    .dataframe tbody tr th:only-of-type {\n",
       "        vertical-align: middle;\n",
       "    }\n",
       "\n",
       "    .dataframe tbody tr th {\n",
       "        vertical-align: top;\n",
       "    }\n",
       "\n",
       "    .dataframe thead th {\n",
       "        text-align: right;\n",
       "    }\n",
       "</style>\n",
       "<table border=\"1\" class=\"dataframe\">\n",
       "  <thead>\n",
       "    <tr style=\"text-align: right;\">\n",
       "      <th></th>\n",
       "      <th>Country</th>\n",
       "      <th>Corona</th>\n",
       "      <th>Corona virus</th>\n",
       "      <th>Covid cases</th>\n",
       "      <th>Face mask</th>\n",
       "      <th>Hand sanitizer</th>\n",
       "      <th>Hand wash</th>\n",
       "      <th>Lockdown</th>\n",
       "      <th>N95</th>\n",
       "      <th>PPE</th>\n",
       "      <th>Social distancing</th>\n",
       "      <th>Vaccine</th>\n",
       "    </tr>\n",
       "  </thead>\n",
       "  <tbody>\n",
       "    <tr>\n",
       "      <th>0</th>\n",
       "      <td>afghanistan</td>\n",
       "      <td>4235</td>\n",
       "      <td>1882</td>\n",
       "      <td>1782</td>\n",
       "      <td>980</td>\n",
       "      <td>1025</td>\n",
       "      <td>383</td>\n",
       "      <td>1387</td>\n",
       "      <td>687</td>\n",
       "      <td>495</td>\n",
       "      <td>269</td>\n",
       "      <td>3172</td>\n",
       "    </tr>\n",
       "    <tr>\n",
       "      <th>1</th>\n",
       "      <td>albania</td>\n",
       "      <td>4168</td>\n",
       "      <td>1276</td>\n",
       "      <td>1103</td>\n",
       "      <td>1603</td>\n",
       "      <td>364</td>\n",
       "      <td>279</td>\n",
       "      <td>1968</td>\n",
       "      <td>511</td>\n",
       "      <td>690</td>\n",
       "      <td>695</td>\n",
       "      <td>3191</td>\n",
       "    </tr>\n",
       "    <tr>\n",
       "      <th>2</th>\n",
       "      <td>algeria</td>\n",
       "      <td>5599</td>\n",
       "      <td>3876</td>\n",
       "      <td>2716</td>\n",
       "      <td>1379</td>\n",
       "      <td>541</td>\n",
       "      <td>199</td>\n",
       "      <td>1731</td>\n",
       "      <td>1423</td>\n",
       "      <td>1232</td>\n",
       "      <td>745</td>\n",
       "      <td>2561</td>\n",
       "    </tr>\n",
       "    <tr>\n",
       "      <th>3</th>\n",
       "      <td>argentina</td>\n",
       "      <td>6185</td>\n",
       "      <td>3985</td>\n",
       "      <td>3836</td>\n",
       "      <td>3251</td>\n",
       "      <td>1205</td>\n",
       "      <td>655</td>\n",
       "      <td>5214</td>\n",
       "      <td>2286</td>\n",
       "      <td>1948</td>\n",
       "      <td>1471</td>\n",
       "      <td>4780</td>\n",
       "    </tr>\n",
       "    <tr>\n",
       "      <th>4</th>\n",
       "      <td>australia</td>\n",
       "      <td>4598</td>\n",
       "      <td>3469</td>\n",
       "      <td>9219</td>\n",
       "      <td>1490</td>\n",
       "      <td>2260</td>\n",
       "      <td>7893</td>\n",
       "      <td>1713</td>\n",
       "      <td>1969</td>\n",
       "      <td>6664</td>\n",
       "      <td>3510</td>\n",
       "      <td>8623</td>\n",
       "    </tr>\n",
       "  </tbody>\n",
       "</table>\n",
       "</div>"
      ],
      "text/plain": [
       "       Country  Corona  Corona virus  Covid cases  Face mask  Hand sanitizer  \\\n",
       "0  afghanistan    4235          1882         1782        980            1025   \n",
       "1      albania    4168          1276         1103       1603             364   \n",
       "2      algeria    5599          3876         2716       1379             541   \n",
       "3    argentina    6185          3985         3836       3251            1205   \n",
       "4    australia    4598          3469         9219       1490            2260   \n",
       "\n",
       "   Hand wash  Lockdown   N95   PPE  Social distancing  Vaccine  \n",
       "0        383      1387   687   495                269     3172  \n",
       "1        279      1968   511   690                695     3191  \n",
       "2        199      1731  1423  1232                745     2561  \n",
       "3        655      5214  2286  1948               1471     4780  \n",
       "4       7893      1713  1969  6664               3510     8623  "
      ]
     },
     "execution_count": 74,
     "metadata": {},
     "output_type": "execute_result"
    }
   ],
   "source": [
    "df = pd.read_csv('Responses.csv')\n",
    "\n",
    "# print the shape\n",
    "print(df.shape)\n",
    "\n",
    "#runs the first 5 rows\n",
    "df.head()"
   ]
  },
  {
   "cell_type": "markdown",
   "id": "892630fe",
   "metadata": {},
   "source": [
    "# Data Preprocessing\n"
   ]
  },
  {
   "cell_type": "code",
   "execution_count": 75,
   "id": "0d7eb894",
   "metadata": {},
   "outputs": [
    {
     "data": {
      "text/plain": [
       "Country              0\n",
       "Corona               0\n",
       "Corona virus         0\n",
       "Covid cases          0\n",
       "Face mask            0\n",
       "Hand sanitizer       0\n",
       "Hand wash            0\n",
       "Lockdown             0\n",
       "N95                  0\n",
       "PPE                  0\n",
       "Social distancing    0\n",
       "Vaccine              0\n",
       "dtype: int64"
      ]
     },
     "execution_count": 75,
     "metadata": {},
     "output_type": "execute_result"
    }
   ],
   "source": [
    "# Check for null entries\n",
    "df.isnull().sum()"
   ]
  },
  {
   "cell_type": "code",
   "execution_count": 76,
   "id": "4047d5eb",
   "metadata": {},
   "outputs": [
    {
     "name": "stdout",
     "output_type": "stream",
     "text": [
      "(121, 12)\n"
     ]
    }
   ],
   "source": [
    "# Removing duplicate entries\n",
    "df.drop_duplicates(inplace = True)\n",
    "print(df.shape)"
   ]
  },
  {
   "cell_type": "code",
   "execution_count": 77,
   "id": "9e30f7a1",
   "metadata": {},
   "outputs": [
    {
     "name": "stdout",
     "output_type": "stream",
     "text": [
      "Country has  121\n",
      "Corona has  119\n",
      "Corona virus has  116\n",
      "Covid cases has  120\n",
      "Face mask has  120\n",
      "Hand sanitizer has  120\n",
      "Hand wash has  106\n",
      "Lockdown has  120\n",
      "N95 has  120\n",
      "PPE has  121\n",
      "Social distancing has  114\n",
      "Vaccine has  119\n"
     ]
    }
   ],
   "source": [
    "# investigate elements per feature\n",
    "for cols in df.columns:\n",
    "    unique_vals = df[cols].unique()\n",
    "    nr_unique_vals = len(unique_vals)\n",
    "    if nr_unique_vals < 12:\n",
    "        print(cols,\"has \", nr_unique_vals, \"and the list includes \", unique_vals)\n",
    "    else:\n",
    "        print(cols,\"has \", nr_unique_vals)\n"
   ]
  },
  {
   "cell_type": "markdown",
   "id": "84c1fa44",
   "metadata": {},
   "source": [
    "# Kernal Density Estimation (KDE)"
   ]
  },
  {
   "cell_type": "code",
   "execution_count": 78,
   "id": "c74ced3e",
   "metadata": {},
   "outputs": [
    {
     "data": {
      "image/png": "[encoded data removed]",
      "text/plain": [
       "<Figure size 432x288 with 1 Axes>"
      ]
     },
     "metadata": {
      "needs_background": "light"
     },
     "output_type": "display_data"
    }
   ],
   "source": [
    "sns.kdeplot(x = 'Corona', data = df);\n"
   ]
  },
  {
   "cell_type": "code",
   "execution_count": 79,
   "id": "d92c3b07",
   "metadata": {},
   "outputs": [
    {
     "data": {
      "image/png": "[encoded data removed]",
      "text/plain": [
       "<Figure size 432x288 with 1 Axes>"
      ]
     },
     "metadata": {
      "needs_background": "light"
     },
     "output_type": "display_data"
    }
   ],
   "source": [
    "sns.kdeplot(x = 'Corona', data = df, cumulative = True);"
   ]
  },
  {
   "cell_type": "code",
   "execution_count": 80,
   "id": "ab60c882",
   "metadata": {},
   "outputs": [
    {
     "data": {
      "image/png": "[encoded data removed]",
      "text/plain": [
       "<Figure size 432x288 with 1 Axes>"
      ]
     },
     "metadata": {
      "needs_background": "light"
     },
     "output_type": "display_data"
    }
   ],
   "source": [
    "sns.scatterplot(x = 'Country', y = 'N95', data = df );"
   ]
  },
  {
   "cell_type": "code",
   "execution_count": 81,
   "id": "240d04fb",
   "metadata": {},
   "outputs": [
    {
     "data": {
      "image/png": "[encoded data removed]",
      "text/plain": [
       "<Figure size 432x288 with 1 Axes>"
      ]
     },
     "metadata": {
      "needs_background": "light"
     },
     "output_type": "display_data"
    }
   ],
   "source": [
    "sns.histplot(x = 'Face mask', data = df, stat = 'frequency');"
   ]
  },
  {
   "cell_type": "markdown",
   "id": "d0fd15dc",
   "metadata": {},
   "source": [
    "# Feature Scaling "
   ]
  },
  {
   "cell_type": "code",
   "execution_count": 82,
   "id": "a830e14b",
   "metadata": {},
   "outputs": [
    {
     "data": {
      "text/html": [
       "<div>\n",
       "<style scoped>\n",
       "    .dataframe tbody tr th:only-of-type {\n",
       "        vertical-align: middle;\n",
       "    }\n",
       "\n",
       "    .dataframe tbody tr th {\n",
       "        vertical-align: top;\n",
       "    }\n",
       "\n",
       "    .dataframe thead th {\n",
       "        text-align: right;\n",
       "    }\n",
       "</style>\n",
       "<table border=\"1\" class=\"dataframe\">\n",
       "  <thead>\n",
       "    <tr style=\"text-align: right;\">\n",
       "      <th></th>\n",
       "      <th>Corona</th>\n",
       "      <th>Corona virus</th>\n",
       "      <th>Covid cases</th>\n",
       "      <th>Face mask</th>\n",
       "      <th>Hand sanitizer</th>\n",
       "      <th>Hand wash</th>\n",
       "      <th>Lockdown</th>\n",
       "      <th>N95</th>\n",
       "      <th>PPE</th>\n",
       "      <th>Social distancing</th>\n",
       "      <th>Vaccine</th>\n",
       "    </tr>\n",
       "  </thead>\n",
       "  <tbody>\n",
       "    <tr>\n",
       "      <th>count</th>\n",
       "      <td>121.000000</td>\n",
       "      <td>121.000000</td>\n",
       "      <td>121.000000</td>\n",
       "      <td>121.000000</td>\n",
       "      <td>121.000000</td>\n",
       "      <td>121.000000</td>\n",
       "      <td>121.000000</td>\n",
       "      <td>121.000000</td>\n",
       "      <td>121.000000</td>\n",
       "      <td>121.000000</td>\n",
       "      <td>121.000000</td>\n",
       "    </tr>\n",
       "    <tr>\n",
       "      <th>mean</th>\n",
       "      <td>5022.000000</td>\n",
       "      <td>3012.123967</td>\n",
       "      <td>3949.834711</td>\n",
       "      <td>3597.099174</td>\n",
       "      <td>1774.842975</td>\n",
       "      <td>1464.694215</td>\n",
       "      <td>2602.578512</td>\n",
       "      <td>1986.586777</td>\n",
       "      <td>2172.206612</td>\n",
       "      <td>1688.685950</td>\n",
       "      <td>3810.371901</td>\n",
       "    </tr>\n",
       "    <tr>\n",
       "      <th>std</th>\n",
       "      <td>1969.880935</td>\n",
       "      <td>957.555286</td>\n",
       "      <td>2391.102648</td>\n",
       "      <td>2386.453273</td>\n",
       "      <td>1594.943500</td>\n",
       "      <td>2132.893750</td>\n",
       "      <td>1330.191513</td>\n",
       "      <td>1309.216284</td>\n",
       "      <td>1858.443152</td>\n",
       "      <td>1669.551422</td>\n",
       "      <td>1580.802049</td>\n",
       "    </tr>\n",
       "    <tr>\n",
       "      <th>min</th>\n",
       "      <td>1250.000000</td>\n",
       "      <td>1081.000000</td>\n",
       "      <td>519.000000</td>\n",
       "      <td>640.000000</td>\n",
       "      <td>100.000000</td>\n",
       "      <td>100.000000</td>\n",
       "      <td>374.000000</td>\n",
       "      <td>100.000000</td>\n",
       "      <td>198.000000</td>\n",
       "      <td>100.000000</td>\n",
       "      <td>1004.000000</td>\n",
       "    </tr>\n",
       "    <tr>\n",
       "      <th>25%</th>\n",
       "      <td>3794.000000</td>\n",
       "      <td>2185.000000</td>\n",
       "      <td>2247.000000</td>\n",
       "      <td>1733.000000</td>\n",
       "      <td>727.000000</td>\n",
       "      <td>291.000000</td>\n",
       "      <td>1586.000000</td>\n",
       "      <td>973.000000</td>\n",
       "      <td>803.000000</td>\n",
       "      <td>604.000000</td>\n",
       "      <td>2574.000000</td>\n",
       "    </tr>\n",
       "    <tr>\n",
       "      <th>50%</th>\n",
       "      <td>4651.000000</td>\n",
       "      <td>3093.000000</td>\n",
       "      <td>3478.000000</td>\n",
       "      <td>3237.000000</td>\n",
       "      <td>1261.000000</td>\n",
       "      <td>755.000000</td>\n",
       "      <td>2343.000000</td>\n",
       "      <td>1752.000000</td>\n",
       "      <td>1522.000000</td>\n",
       "      <td>1133.000000</td>\n",
       "      <td>3650.000000</td>\n",
       "    </tr>\n",
       "    <tr>\n",
       "      <th>75%</th>\n",
       "      <td>6160.000000</td>\n",
       "      <td>3725.000000</td>\n",
       "      <td>5342.000000</td>\n",
       "      <td>4562.000000</td>\n",
       "      <td>2334.000000</td>\n",
       "      <td>1710.000000</td>\n",
       "      <td>3584.000000</td>\n",
       "      <td>2752.000000</td>\n",
       "      <td>3231.000000</td>\n",
       "      <td>2211.000000</td>\n",
       "      <td>4780.000000</td>\n",
       "    </tr>\n",
       "    <tr>\n",
       "      <th>max</th>\n",
       "      <td>11928.000000</td>\n",
       "      <td>5657.000000</td>\n",
       "      <td>12456.000000</td>\n",
       "      <td>13408.000000</td>\n",
       "      <td>9470.000000</td>\n",
       "      <td>12781.000000</td>\n",
       "      <td>6208.000000</td>\n",
       "      <td>6736.000000</td>\n",
       "      <td>11045.000000</td>\n",
       "      <td>8465.000000</td>\n",
       "      <td>8841.000000</td>\n",
       "    </tr>\n",
       "  </tbody>\n",
       "</table>\n",
       "</div>"
      ],
      "text/plain": [
       "             Corona  Corona virus   Covid cases     Face mask  Hand sanitizer  \\\n",
       "count    121.000000    121.000000    121.000000    121.000000      121.000000   \n",
       "mean    5022.000000   3012.123967   3949.834711   3597.099174     1774.842975   \n",
       "std     1969.880935    957.555286   2391.102648   2386.453273     1594.943500   \n",
       "min     1250.000000   1081.000000    519.000000    640.000000      100.000000   \n",
       "25%     3794.000000   2185.000000   2247.000000   1733.000000      727.000000   \n",
       "50%     4651.000000   3093.000000   3478.000000   3237.000000     1261.000000   \n",
       "75%     6160.000000   3725.000000   5342.000000   4562.000000     2334.000000   \n",
       "max    11928.000000   5657.000000  12456.000000  13408.000000     9470.000000   \n",
       "\n",
       "          Hand wash     Lockdown          N95           PPE  \\\n",
       "count    121.000000   121.000000   121.000000    121.000000   \n",
       "mean    1464.694215  2602.578512  1986.586777   2172.206612   \n",
       "std     2132.893750  1330.191513  1309.216284   1858.443152   \n",
       "min      100.000000   374.000000   100.000000    198.000000   \n",
       "25%      291.000000  1586.000000   973.000000    803.000000   \n",
       "50%      755.000000  2343.000000  1752.000000   1522.000000   \n",
       "75%     1710.000000  3584.000000  2752.000000   3231.000000   \n",
       "max    12781.000000  6208.000000  6736.000000  11045.000000   \n",
       "\n",
       "       Social distancing      Vaccine  \n",
       "count         121.000000   121.000000  \n",
       "mean         1688.685950  3810.371901  \n",
       "std          1669.551422  1580.802049  \n",
       "min           100.000000  1004.000000  \n",
       "25%           604.000000  2574.000000  \n",
       "50%          1133.000000  3650.000000  \n",
       "75%          2211.000000  4780.000000  \n",
       "max          8465.000000  8841.000000  "
      ]
     },
     "execution_count": 82,
     "metadata": {},
     "output_type": "execute_result"
    }
   ],
   "source": [
    "#check dataset summary\n",
    "df.describe()"
   ]
  },
  {
   "cell_type": "code",
   "execution_count": 83,
   "id": "1d87cf60",
   "metadata": {},
   "outputs": [
    {
     "data": {
      "text/html": [
       "<div>\n",
       "<style scoped>\n",
       "    .dataframe tbody tr th:only-of-type {\n",
       "        vertical-align: middle;\n",
       "    }\n",
       "\n",
       "    .dataframe tbody tr th {\n",
       "        vertical-align: top;\n",
       "    }\n",
       "\n",
       "    .dataframe thead th {\n",
       "        text-align: right;\n",
       "    }\n",
       "</style>\n",
       "<table border=\"1\" class=\"dataframe\">\n",
       "  <thead>\n",
       "    <tr style=\"text-align: right;\">\n",
       "      <th></th>\n",
       "      <th>Corona</th>\n",
       "      <th>Corona virus</th>\n",
       "      <th>Covid cases</th>\n",
       "      <th>Face mask</th>\n",
       "      <th>Hand sanitizer</th>\n",
       "      <th>Hand wash</th>\n",
       "      <th>Lockdown</th>\n",
       "      <th>N95</th>\n",
       "      <th>PPE</th>\n",
       "      <th>Social distancing</th>\n",
       "      <th>Vaccine</th>\n",
       "    </tr>\n",
       "  </thead>\n",
       "  <tbody>\n",
       "    <tr>\n",
       "      <th>0</th>\n",
       "      <td>4235</td>\n",
       "      <td>1882</td>\n",
       "      <td>1782</td>\n",
       "      <td>980</td>\n",
       "      <td>1025</td>\n",
       "      <td>383</td>\n",
       "      <td>1387</td>\n",
       "      <td>687</td>\n",
       "      <td>495</td>\n",
       "      <td>269</td>\n",
       "      <td>3172</td>\n",
       "    </tr>\n",
       "    <tr>\n",
       "      <th>1</th>\n",
       "      <td>4168</td>\n",
       "      <td>1276</td>\n",
       "      <td>1103</td>\n",
       "      <td>1603</td>\n",
       "      <td>364</td>\n",
       "      <td>279</td>\n",
       "      <td>1968</td>\n",
       "      <td>511</td>\n",
       "      <td>690</td>\n",
       "      <td>695</td>\n",
       "      <td>3191</td>\n",
       "    </tr>\n",
       "    <tr>\n",
       "      <th>2</th>\n",
       "      <td>5599</td>\n",
       "      <td>3876</td>\n",
       "      <td>2716</td>\n",
       "      <td>1379</td>\n",
       "      <td>541</td>\n",
       "      <td>199</td>\n",
       "      <td>1731</td>\n",
       "      <td>1423</td>\n",
       "      <td>1232</td>\n",
       "      <td>745</td>\n",
       "      <td>2561</td>\n",
       "    </tr>\n",
       "    <tr>\n",
       "      <th>3</th>\n",
       "      <td>6185</td>\n",
       "      <td>3985</td>\n",
       "      <td>3836</td>\n",
       "      <td>3251</td>\n",
       "      <td>1205</td>\n",
       "      <td>655</td>\n",
       "      <td>5214</td>\n",
       "      <td>2286</td>\n",
       "      <td>1948</td>\n",
       "      <td>1471</td>\n",
       "      <td>4780</td>\n",
       "    </tr>\n",
       "    <tr>\n",
       "      <th>4</th>\n",
       "      <td>4598</td>\n",
       "      <td>3469</td>\n",
       "      <td>9219</td>\n",
       "      <td>1490</td>\n",
       "      <td>2260</td>\n",
       "      <td>7893</td>\n",
       "      <td>1713</td>\n",
       "      <td>1969</td>\n",
       "      <td>6664</td>\n",
       "      <td>3510</td>\n",
       "      <td>8623</td>\n",
       "    </tr>\n",
       "  </tbody>\n",
       "</table>\n",
       "</div>"
      ],
      "text/plain": [
       "   Corona  Corona virus  Covid cases  Face mask  Hand sanitizer  Hand wash  \\\n",
       "0    4235          1882         1782        980            1025        383   \n",
       "1    4168          1276         1103       1603             364        279   \n",
       "2    5599          3876         2716       1379             541        199   \n",
       "3    6185          3985         3836       3251            1205        655   \n",
       "4    4598          3469         9219       1490            2260       7893   \n",
       "\n",
       "   Lockdown   N95   PPE  Social distancing  Vaccine  \n",
       "0      1387   687   495                269     3172  \n",
       "1      1968   511   690                695     3191  \n",
       "2      1731  1423  1232                745     2561  \n",
       "3      5214  2286  1948               1471     4780  \n",
       "4      1713  1969  6664               3510     8623  "
      ]
     },
     "execution_count": 83,
     "metadata": {},
     "output_type": "execute_result"
    }
   ],
   "source": [
    "X = df.drop(columns = 'Country') \n",
    "X.head()"
   ]
  },
  {
   "cell_type": "code",
   "execution_count": 84,
   "id": "3153e7d5",
   "metadata": {
    "scrolled": true
   },
   "outputs": [
    {
     "data": {
      "text/plain": [
       "['Corona',\n",
       " 'Corona virus',\n",
       " 'Covid cases',\n",
       " 'Face mask',\n",
       " 'Hand sanitizer',\n",
       " 'Hand wash',\n",
       " 'Lockdown',\n",
       " 'N95',\n",
       " 'PPE',\n",
       " 'Social distancing',\n",
       " 'Vaccine']"
      ]
     },
     "execution_count": 84,
     "metadata": {},
     "output_type": "execute_result"
    }
   ],
   "source": [
    "#find features that need to be scaled\n",
    "scale_vars = []\n",
    "\n",
    "for cols in X.columns:\n",
    "    if X[cols].max() > 1:\n",
    "        scale_vars.append(cols)\n",
    "scale_vars"
   ]
  },
  {
   "cell_type": "code",
   "execution_count": 85,
   "id": "2135e7cb",
   "metadata": {
    "scrolled": true
   },
   "outputs": [
    {
     "data": {
      "text/html": [
       "<div>\n",
       "<style scoped>\n",
       "    .dataframe tbody tr th:only-of-type {\n",
       "        vertical-align: middle;\n",
       "    }\n",
       "\n",
       "    .dataframe tbody tr th {\n",
       "        vertical-align: top;\n",
       "    }\n",
       "\n",
       "    .dataframe thead th {\n",
       "        text-align: right;\n",
       "    }\n",
       "</style>\n",
       "<table border=\"1\" class=\"dataframe\">\n",
       "  <thead>\n",
       "    <tr style=\"text-align: right;\">\n",
       "      <th></th>\n",
       "      <th>Corona</th>\n",
       "      <th>Corona virus</th>\n",
       "      <th>Covid cases</th>\n",
       "      <th>Face mask</th>\n",
       "      <th>Hand sanitizer</th>\n",
       "      <th>Hand wash</th>\n",
       "      <th>Lockdown</th>\n",
       "      <th>N95</th>\n",
       "      <th>PPE</th>\n",
       "      <th>Social distancing</th>\n",
       "      <th>Vaccine</th>\n",
       "    </tr>\n",
       "  </thead>\n",
       "  <tbody>\n",
       "    <tr>\n",
       "      <th>0</th>\n",
       "      <td>0.279547</td>\n",
       "      <td>0.175044</td>\n",
       "      <td>0.105805</td>\n",
       "      <td>0.026629</td>\n",
       "      <td>0.098719</td>\n",
       "      <td>0.022317</td>\n",
       "      <td>0.173637</td>\n",
       "      <td>0.088457</td>\n",
       "      <td>0.027381</td>\n",
       "      <td>0.020203</td>\n",
       "      <td>0.276636</td>\n",
       "    </tr>\n",
       "    <tr>\n",
       "      <th>1</th>\n",
       "      <td>0.273272</td>\n",
       "      <td>0.042614</td>\n",
       "      <td>0.048924</td>\n",
       "      <td>0.075423</td>\n",
       "      <td>0.028175</td>\n",
       "      <td>0.014116</td>\n",
       "      <td>0.273226</td>\n",
       "      <td>0.061935</td>\n",
       "      <td>0.045358</td>\n",
       "      <td>0.071130</td>\n",
       "      <td>0.279061</td>\n",
       "    </tr>\n",
       "    <tr>\n",
       "      <th>2</th>\n",
       "      <td>0.407286</td>\n",
       "      <td>0.610795</td>\n",
       "      <td>0.184050</td>\n",
       "      <td>0.057879</td>\n",
       "      <td>0.047065</td>\n",
       "      <td>0.007807</td>\n",
       "      <td>0.232602</td>\n",
       "      <td>0.199367</td>\n",
       "      <td>0.095326</td>\n",
       "      <td>0.077107</td>\n",
       "      <td>0.198673</td>\n",
       "    </tr>\n",
       "    <tr>\n",
       "      <th>3</th>\n",
       "      <td>0.462165</td>\n",
       "      <td>0.634615</td>\n",
       "      <td>0.277876</td>\n",
       "      <td>0.204496</td>\n",
       "      <td>0.117930</td>\n",
       "      <td>0.043766</td>\n",
       "      <td>0.829619</td>\n",
       "      <td>0.329415</td>\n",
       "      <td>0.161335</td>\n",
       "      <td>0.163897</td>\n",
       "      <td>0.481817</td>\n",
       "    </tr>\n",
       "    <tr>\n",
       "      <th>4</th>\n",
       "      <td>0.313542</td>\n",
       "      <td>0.521853</td>\n",
       "      <td>0.728826</td>\n",
       "      <td>0.066573</td>\n",
       "      <td>0.230523</td>\n",
       "      <td>0.614541</td>\n",
       "      <td>0.229517</td>\n",
       "      <td>0.281646</td>\n",
       "      <td>0.596110</td>\n",
       "      <td>0.407651</td>\n",
       "      <td>0.972183</td>\n",
       "    </tr>\n",
       "  </tbody>\n",
       "</table>\n",
       "</div>"
      ],
      "text/plain": [
       "     Corona  Corona virus  Covid cases  Face mask  Hand sanitizer  Hand wash  \\\n",
       "0  0.279547      0.175044     0.105805   0.026629        0.098719   0.022317   \n",
       "1  0.273272      0.042614     0.048924   0.075423        0.028175   0.014116   \n",
       "2  0.407286      0.610795     0.184050   0.057879        0.047065   0.007807   \n",
       "3  0.462165      0.634615     0.277876   0.204496        0.117930   0.043766   \n",
       "4  0.313542      0.521853     0.728826   0.066573        0.230523   0.614541   \n",
       "\n",
       "   Lockdown       N95       PPE  Social distancing   Vaccine  \n",
       "0  0.173637  0.088457  0.027381           0.020203  0.276636  \n",
       "1  0.273226  0.061935  0.045358           0.071130  0.279061  \n",
       "2  0.232602  0.199367  0.095326           0.077107  0.198673  \n",
       "3  0.829619  0.329415  0.161335           0.163897  0.481817  \n",
       "4  0.229517  0.281646  0.596110           0.407651  0.972183  "
      ]
     },
     "execution_count": 85,
     "metadata": {},
     "output_type": "execute_result"
    }
   ],
   "source": [
    "# Using MinMaxScaler \n",
    "from sklearn.preprocessing import MinMaxScaler\n",
    "\n",
    "scaler = MinMaxScaler()\n",
    "scaler.fit(X[scale_vars])\n",
    "temp = scaler.transform(X[scale_vars])\n",
    "df_minmax = pd.DataFrame(data=temp, columns = scale_vars)\n",
    "df_minmax.head()"
   ]
  },
  {
   "cell_type": "markdown",
   "id": "d28bd82f",
   "metadata": {},
   "source": [
    "# K means clustering \n"
   ]
  },
  {
   "cell_type": "code",
   "execution_count": 86,
   "id": "3b735dea",
   "metadata": {},
   "outputs": [],
   "source": [
    "new_raw_data = df_minmax"
   ]
  },
  {
   "cell_type": "code",
   "execution_count": 87,
   "id": "963d3312",
   "metadata": {},
   "outputs": [
    {
     "name": "stdout",
     "output_type": "stream",
     "text": [
      "The inertia for : 2 Clusters is: 29.689710952762166\n",
      "The inertia for : 3 Clusters is: 23.7036772989323\n",
      "The inertia for : 4 Clusters is: 20.4376398018931\n",
      "The inertia for : 5 Clusters is: 18.769596965629077\n",
      "The inertia for : 6 Clusters is: 17.104947597199956\n",
      "The inertia for : 7 Clusters is: 15.920016576456161\n",
      "The inertia for : 8 Clusters is: 14.83812034079137\n",
      "The inertia for : 9 Clusters is: 14.013549066358777\n",
      "The inertia for : 10 Clusters is: 13.204456524864613\n",
      "The inertia for : 11 Clusters is: 12.746274954653737\n",
      "The inertia for : 12 Clusters is: 11.870908705660385\n",
      "The inertia for : 13 Clusters is: 11.548515275932054\n",
      "The inertia for : 14 Clusters is: 10.994860932168995\n"
     ]
    }
   ],
   "source": [
    "# Running K means with multiple Ks value\n",
    "no_of_clusters = range(2,15) \n",
    "inertia = []\n",
    "\n",
    "for f in no_of_clusters:\n",
    "    kmeans = KMeans(n_clusters=f, random_state=2)\n",
    "    kmeans = kmeans.fit(new_raw_data)\n",
    "    u = kmeans.inertia_\n",
    "    inertia.append(u)\n",
    "    print(\"The inertia for :\", f, \"Clusters is:\", u)"
   ]
  },
  {
   "cell_type": "code",
   "execution_count": 88,
   "id": "a9e23bac",
   "metadata": {},
   "outputs": [
    {
     "data": {
      "image/png": "[encoded data removed]",
      "text/plain": [
       "<Figure size 1152x432 with 1 Axes>"
      ]
     },
     "metadata": {
      "needs_background": "light"
     },
     "output_type": "display_data"
    }
   ],
   "source": [
    "plt.figure(figsize = (16, 6))\n",
    "plt.xlabel('Number of clusters')\n",
    "plt.ylabel('Inertia Score')\n",
    "plt.title('SSE for different cluster size [The Elbow Method]')\n",
    "plt.plot(no_of_clusters, inertia)\n",
    "plt.grid(True)\n",
    "plt.show()"
   ]
  },
  {
   "cell_type": "markdown",
   "id": "18a0a63c",
   "metadata": {},
   "source": [
    "# Clustering Validation Technique (Silhouette)"
   ]
  },
  {
   "cell_type": "code",
   "execution_count": 89,
   "id": "49773fd7",
   "metadata": {},
   "outputs": [
    {
     "name": "stdout",
     "output_type": "stream",
     "text": [
      "For n_clusters = 2 The average silhouette_score is : 0.36200487963849143\n",
      "For n_clusters = 3 The average silhouette_score is : 0.3126037746524694\n",
      "For n_clusters = 4 The average silhouette_score is : 0.2431389254658219\n",
      "For n_clusters = 5 The average silhouette_score is : 0.21796381791729913\n",
      "For n_clusters = 6 The average silhouette_score is : 0.23067300273773597\n",
      "For n_clusters = 7 The average silhouette_score is : 0.2204966296933859\n",
      "For n_clusters = 8 The average silhouette_score is : 0.21060381727836852\n",
      "For n_clusters = 9 The average silhouette_score is : 0.21844395128640182\n",
      "For n_clusters = 10 The average silhouette_score is : 0.21199985996584453\n",
      "For n_clusters = 11 The average silhouette_score is : 0.2051891232854508\n",
      "For n_clusters = 12 The average silhouette_score is : 0.2027233123412232\n",
      "For n_clusters = 13 The average silhouette_score is : 0.20412280289012968\n",
      "For n_clusters = 14 The average silhouette_score is : 0.16336400339295662\n"
     ]
    }
   ],
   "source": [
    "from sklearn.metrics import silhouette_samples, silhouette_score\n",
    "avg_silh = []\n",
    "for n_clusters in no_of_clusters:\n",
    "    \n",
    "    clusterer = KMeans(n_clusters=n_clusters, random_state=2)\n",
    "    cluster_labels = clusterer.fit_predict(new_raw_data)\n",
    "\n",
    "    # The silhouette_score gives the average value for all the samples.\n",
    "    # This gives a perspective into the density and separation of the formed\n",
    "    # clusters\n",
    "    silhouette_avg = silhouette_score(new_raw_data, cluster_labels)\n",
    "    avg_silh.append(silhouette_avg)\n",
    "    print(\"For n_clusters =\", n_clusters,\n",
    "          \"The average silhouette_score is :\", silhouette_avg)\n",
    "\n",
    "    "
   ]
  },
  {
   "cell_type": "code",
   "execution_count": 90,
   "id": "0b03dc89",
   "metadata": {},
   "outputs": [
    {
     "data": {
      "image/png": "[encoded data removed]",
      "text/plain": [
       "<Figure size 1152x432 with 1 Axes>"
      ]
     },
     "metadata": {
      "needs_background": "light"
     },
     "output_type": "display_data"
    }
   ],
   "source": [
    "plt.figure(figsize = (16, 6))\n",
    "plt.xlabel('Number of clusters')\n",
    "plt.ylabel('Avg. Silhouette Coeffiecient')\n",
    "plt.title('Average Silhouette for different cluster size')\n",
    "plt.plot(no_of_clusters, avg_silh)\n",
    "plt.grid()\n",
    "plt.show()"
   ]
  },
  {
   "cell_type": "code",
   "execution_count": 91,
   "id": "601d7f31",
   "metadata": {},
   "outputs": [
    {
     "data": {
      "text/plain": [
       "<AxesSubplot:>"
      ]
     },
     "execution_count": 91,
     "metadata": {},
     "output_type": "execute_result"
    },
    {
     "data": {
      "image/png": "[encoded data removed]",
      "text/plain": [
       "<Figure size 720x720 with 1 Axes>"
      ]
     },
     "metadata": {
      "needs_background": "light"
     },
     "output_type": "display_data"
    }
   ],
   "source": [
    "n_clusters = 4\n",
    "clusterer = KMeans(n_clusters=n_clusters, random_state=2)\n",
    "cluster_labels = clusterer.fit_predict(new_raw_data)\n",
    "sample_silhouette_values = silhouette_samples(new_raw_data, cluster_labels)\n",
    "plt.figure(figsize = (10,10))\n",
    "sns.boxplot(x = cluster_labels, y = sample_silhouette_values)"
   ]
  },
  {
   "cell_type": "markdown",
   "id": "9f80b738",
   "metadata": {},
   "source": [
    "# Visualizing the clusters\n"
   ]
  },
  {
   "cell_type": "code",
   "execution_count": 92,
   "id": "f08c5f70",
   "metadata": {},
   "outputs": [
    {
     "data": {
      "text/plain": [
       "array([0, 0, 2, 2, 1, 2, 2, 3, 3, 0, 0, 0, 3, 0, 2, 0, 0, 1, 2, 0, 3, 2,\n",
       "       2, 3, 0, 2, 2, 0, 0, 0, 2, 3, 0, 3, 2, 3, 0, 0, 3, 2, 1, 3, 2, 2,\n",
       "       3, 0, 2, 3, 2, 3, 0, 2, 0, 2, 2, 0, 0, 2, 0, 0, 2, 0, 0, 0, 1, 0,\n",
       "       0, 2, 3, 0, 2, 2, 2, 3, 3, 3, 2, 2, 2, 3, 0, 0, 2, 1, 3, 2, 2, 3,\n",
       "       2, 2, 0, 2, 3, 2, 3, 0, 0, 0, 1, 3, 3, 3, 0, 3, 3, 0, 2, 0, 3, 0,\n",
       "       0, 3, 2, 2, 1, 1, 1, 0, 3, 0, 0])"
      ]
     },
     "execution_count": 92,
     "metadata": {},
     "output_type": "execute_result"
    }
   ],
   "source": [
    "#making the array for clustering column\n",
    "kmeans=KMeans(n_clusters=4,init = 'k-means++')\n",
    "y_predicted=kmeans.fit_predict(new_raw_data)\n",
    "y_predicted"
   ]
  },
  {
   "cell_type": "code",
   "execution_count": 93,
   "id": "240b14c8",
   "metadata": {},
   "outputs": [
    {
     "data": {
      "text/html": [
       "<div>\n",
       "<style scoped>\n",
       "    .dataframe tbody tr th:only-of-type {\n",
       "        vertical-align: middle;\n",
       "    }\n",
       "\n",
       "    .dataframe tbody tr th {\n",
       "        vertical-align: top;\n",
       "    }\n",
       "\n",
       "    .dataframe thead th {\n",
       "        text-align: right;\n",
       "    }\n",
       "</style>\n",
       "<table border=\"1\" class=\"dataframe\">\n",
       "  <thead>\n",
       "    <tr style=\"text-align: right;\">\n",
       "      <th></th>\n",
       "      <th>Country</th>\n",
       "      <th>Cluster</th>\n",
       "    </tr>\n",
       "  </thead>\n",
       "  <tbody>\n",
       "    <tr>\n",
       "      <th>0</th>\n",
       "      <td>afghanistan</td>\n",
       "      <td>0</td>\n",
       "    </tr>\n",
       "    <tr>\n",
       "      <th>1</th>\n",
       "      <td>albania</td>\n",
       "      <td>0</td>\n",
       "    </tr>\n",
       "    <tr>\n",
       "      <th>2</th>\n",
       "      <td>algeria</td>\n",
       "      <td>2</td>\n",
       "    </tr>\n",
       "    <tr>\n",
       "      <th>3</th>\n",
       "      <td>argentina</td>\n",
       "      <td>2</td>\n",
       "    </tr>\n",
       "    <tr>\n",
       "      <th>4</th>\n",
       "      <td>australia</td>\n",
       "      <td>1</td>\n",
       "    </tr>\n",
       "  </tbody>\n",
       "</table>\n",
       "</div>"
      ],
      "text/plain": [
       "       Country  Cluster\n",
       "0  afghanistan        0\n",
       "1      albania        0\n",
       "2      algeria        2\n",
       "3    argentina        2\n",
       "4    australia        1"
      ]
     },
     "execution_count": 93,
     "metadata": {},
     "output_type": "execute_result"
    }
   ],
   "source": [
    "#making a new dataframe for country and clusters\n",
    "final = pd.DataFrame()  \n",
    "final['Country'] = df['Country']\n",
    "final['Cluster']= y_predicted\n",
    "final.head()"
   ]
  },
  {
   "cell_type": "code",
   "execution_count": 94,
   "id": "3a7a46b4",
   "metadata": {},
   "outputs": [
    {
     "data": {
      "text/plain": [
       "0    43\n",
       "2    39\n",
       "3    30\n",
       "1     9\n",
       "Name: Cluster, dtype: int64"
      ]
     },
     "execution_count": 94,
     "metadata": {},
     "output_type": "execute_result"
    }
   ],
   "source": [
    "final['Cluster'].value_counts()"
   ]
  },
  {
   "cell_type": "code",
   "execution_count": 95,
   "id": "f41508ae",
   "metadata": {},
   "outputs": [
    {
     "data": {
      "image/png": "[encoded data removed]",
      "text/plain": [
       "<Figure size 432x288 with 1 Axes>"
      ]
     },
     "metadata": {
      "needs_background": "light"
     },
     "output_type": "display_data"
    }
   ],
   "source": [
    "sns.kdeplot(x = 'Cluster', data = final);"
   ]
  },
  {
   "cell_type": "code",
   "execution_count": 96,
   "id": "0bdc79bd",
   "metadata": {},
   "outputs": [
    {
     "data": {
      "image/png": "[encoded data removed]",
      "text/plain": [
       "<Figure size 432x288 with 1 Axes>"
      ]
     },
     "metadata": {
      "needs_background": "light"
     },
     "output_type": "display_data"
    }
   ],
   "source": [
    "sns.kdeplot(x = 'Cluster', data = final, cumulative = True);"
   ]
  },
  {
   "cell_type": "code",
   "execution_count": 97,
   "id": "6d4d9569",
   "metadata": {},
   "outputs": [
    {
     "data": {
      "image/png": "[encoded data removed]",
      "text/plain": [
       "<Figure size 432x288 with 1 Axes>"
      ]
     },
     "metadata": {
      "needs_background": "light"
     },
     "output_type": "display_data"
    }
   ],
   "source": [
    "sns.histplot(x = 'Cluster', kde = True, data = final);"
   ]
  },
  {
   "cell_type": "code",
   "execution_count": 110,
   "id": "633110d9",
   "metadata": {},
   "outputs": [
    {
     "data": {
      "image/png": "[encoded data removed]",
      "text/plain": [
       "<Figure size 576x360 with 1 Axes>"
      ]
     },
     "metadata": {
      "needs_background": "light"
     },
     "output_type": "display_data"
    }
   ],
   "source": [
    "plt.figure(figsize = (8,5))\n",
    "sns.countplot(x = final['Cluster'], data = final, palette=\"Set2\");"
   ]
  }
 ],
 "metadata": {
  "kernelspec": {
   "display_name": "Python 3",
   "language": "python",
   "name": "python3"
  },
  "language_info": {
   "codemirror_mode": {
    "name": "ipython",
    "version": 3
   },
   "file_extension": ".py",
   "mimetype": "text/x-python",
   "name": "python",
   "nbconvert_exporter": "python",
   "pygments_lexer": "ipython3",
   "version": "3.8.8"
  }
 },
 "nbformat": 4,
 "nbformat_minor": 5
}
